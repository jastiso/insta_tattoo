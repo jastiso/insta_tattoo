{
 "cells": [
  {
   "cell_type": "markdown",
   "id": "c7fd80a5",
   "metadata": {},
   "source": [
    "https://python.plainenglish.io/scrape-everythings-from-instagram-using-python-39b5a8baf2e5 https://towardsdatascience.com/clustering-documents-with-python-97314ad6a78d"
   ]
  },
  {
   "cell_type": "code",
   "execution_count": 9,
   "id": "eea7c6e9",
   "metadata": {},
   "outputs": [],
   "source": [
    "import pandas as pd\n",
    "from datetime import datetime\n",
    "from itertools import dropwhile, takewhile\n",
    "from instagram_web_api import Client, ClientError, ClientLoginError, ClientCookieExpiredError\n",
    "import string\n",
    "import random\n",
    "import hashlib\n",
    "import getpass\n",
    "import datetime\n",
    "import os\n",
    "import json\n",
    "import codecs\n",
    "import re\n",
    "import pickle"
   ]
  },
  {
   "cell_type": "markdown",
   "id": "f8912b9e",
   "metadata": {},
   "source": [
    "### setup api client"
   ]
  },
  {
   "cell_type": "code",
   "execution_count": 2,
   "id": "df830c4c",
   "metadata": {},
   "outputs": [
    {
     "name": "stdout",
     "output_type": "stream",
     "text": [
      "user: jastiso\n",
      "password: ········\n"
     ]
    }
   ],
   "source": [
    "user = input('user: ')\n",
    "passwrd = getpass.getpass('password: ')\n",
    "settingsfile = './data/settings.json'"
   ]
  },
  {
   "cell_type": "code",
   "execution_count": 3,
   "id": "ab730a14",
   "metadata": {},
   "outputs": [],
   "source": [
    "class MyClient(Client):\n",
    "    @staticmethod\n",
    "    def _extract_rhx_gis(html):\n",
    "        options = string.ascii_lowercase + string.digits\n",
    "        text = ''.join([random.choice(options) for _ in range(8)])\n",
    "        return hashlib.md5(text.encode())\n",
    "    \n",
    "    def login(self):\n",
    "        \"\"\"Login to the web site.\"\"\"\n",
    "        if not self.username or not self.password:\n",
    "            raise ClientError('username/password is blank')\n",
    "\n",
    "        time = str(int(datetime.datetime.now().timestamp()))\n",
    "        enc_password = f\"#PWD_INSTAGRAM_BROWSER:0:{time}:{self.password}\"\n",
    "\n",
    "        params = {'username': self.username, 'enc_password': enc_password, 'queryParams': '{}', 'optIntoOneTap': False}\n",
    "        self._init_rollout_hash()\n",
    "        login_res = self._make_request('https://www.instagram.com/accounts/login/ajax/', params=params)\n",
    "        if not login_res.get('status', '') == 'ok' or not login_res.get ('authenticated'):\n",
    "            raise ClientLoginError('Unable to login')\n",
    "\n",
    "        if self.on_login:\n",
    "            on_login_callback = self.on_login\n",
    "            on_login_callback(self)\n",
    "        return login_res\n",
    "    "
   ]
  },
  {
   "cell_type": "code",
   "execution_count": 6,
   "id": "01637ec9",
   "metadata": {},
   "outputs": [],
   "source": [
    "api = MyClient(auto_patch=True, authenticate=True, username=user, password=passwrd)"
   ]
  },
  {
   "cell_type": "markdown",
   "id": "75612a8c",
   "metadata": {},
   "source": [
    "### nyc"
   ]
  },
  {
   "cell_type": "code",
   "execution_count": 7,
   "id": "066ec572",
   "metadata": {},
   "outputs": [],
   "source": [
    "data = api.tag_feed('nyctattooartist', count=50)\n",
    "res = data['data']['hashtag']['edge_hashtag_to_media']['edges']\n",
    "has_more = data['data']['hashtag']['edge_hashtag_to_media']['page_info']['has_next_page']\n",
    "end_cursor = data['data']['hashtag']['edge_hashtag_to_media']['page_info']['end_cursor']\n",
    "while has_more & (len(res) <= 10000):\n",
    "        curr_res = api.tag_feed('nyctattoo', count=50, end_cursor=end_cursor)\n",
    "        has_more = curr_res['data']['hashtag']['edge_hashtag_to_media']['page_info']['has_next_page']\n",
    "        end_cursor = curr_res['data']['hashtag']['edge_hashtag_to_media']['page_info']['end_cursor']\n",
    "        res.extend(curr_res['data']['hashtag']['edge_hashtag_to_media']['edges'])\n"
   ]
  },
  {
   "cell_type": "code",
   "execution_count": null,
   "id": "69879206",
   "metadata": {},
   "outputs": [],
   "source": [
    "f = open('./data/nyc', 'wb')\n",
    "pickle.load(res, f)"
   ]
  },
  {
   "cell_type": "markdown",
   "id": "87787efd",
   "metadata": {},
   "source": [
    "### sf"
   ]
  },
  {
   "cell_type": "code",
   "execution_count": 12,
   "id": "489612e3",
   "metadata": {},
   "outputs": [],
   "source": [
    "data = api.tag_feed('sftattooartist', count=50)\n",
    "res = data['data']['hashtag']['edge_hashtag_to_media']['edges']\n",
    "has_more = data['data']['hashtag']['edge_hashtag_to_media']['page_info']['has_next_page']\n",
    "end_cursor = data['data']['hashtag']['edge_hashtag_to_media']['page_info']['end_cursor']\n",
    "while has_more & (len(res) <= 10000):\n",
    "        curr_res = api.tag_feed('sftattooartist', count=50, end_cursor=end_cursor)\n",
    "        has_more = curr_res['data']['hashtag']['edge_hashtag_to_media']['page_info']['has_next_page']\n",
    "        end_cursor = curr_res['data']['hashtag']['edge_hashtag_to_media']['page_info']['end_cursor']\n",
    "        res.extend(curr_res['data']['hashtag']['edge_hashtag_to_media']['edges'])\n"
   ]
  },
  {
   "cell_type": "code",
   "execution_count": 14,
   "id": "6b1b11d4",
   "metadata": {},
   "outputs": [],
   "source": [
    "f = open('./data/sf', 'wb')\n",
    "pickle.dump(res, f)"
   ]
  }
 ],
 "metadata": {
  "kernelspec": {
   "display_name": "tattoo",
   "language": "python",
   "name": "tattoo"
  },
  "language_info": {
   "codemirror_mode": {
    "name": "ipython",
    "version": 3
   },
   "file_extension": ".py",
   "mimetype": "text/x-python",
   "name": "python",
   "nbconvert_exporter": "python",
   "pygments_lexer": "ipython3",
   "version": "3.10.5"
  }
 },
 "nbformat": 4,
 "nbformat_minor": 5
}
